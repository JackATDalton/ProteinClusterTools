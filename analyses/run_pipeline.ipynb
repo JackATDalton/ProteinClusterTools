{
 "cells": [
  {
   "cell_type": "markdown",
   "metadata": {},
   "source": [
    "# How to run the package to build sequence similarity networks and clusterings of a protein family"
   ]
  },
  {
   "cell_type": "markdown",
   "metadata": {},
   "source": [
    "All that is required is a fasta file of protein sequences.  \n",
    "\n",
    "The entire pipeline is run from the command line using python. After the cluster definitions are generated, the package also provides various helper functions to visualize and annotate the data.      \n",
    "  \n",
    "**Note:**\n",
    "Sequence headers in the fasta will be trimmed at the first space and converted to numeric IDs for the process.  \n",
    "This is the easiest way to ensure any arbitrarily named set of sequences can be processed without issue. Later notebooks will show how to map the IDs back given a particular downstream process.\n",
    "\n",
    "**Another note:**\n",
    "Examples in this notebook attempt to use the bash shell to execute examples. But assuming you have it installed, you can also run the same commands directly from command line (assuming the correct python environment is activated). All cells start with '%%bash', which is just for this notebook, and does not need to be copied if running the commands anywhere else."
   ]
  },
  {
   "cell_type": "markdown",
   "metadata": {},
   "source": [
    "## Pipeline options"
   ]
  },
  {
   "cell_type": "markdown",
   "metadata": {},
   "source": [
    "Assuming the 'proteinclustertools' has been installed, the main processing pipeline can be accessed with the following command.  \n",
    "  \n",
    "Keep in mind that for the package to be found you need to be using the environment (conda, venv, Jupyter kernel, whichever is relevant for where the code is being run) that has all the requirements installed.\n",
    "\n",
    "The following is an example of the options available."
   ]
  },
  {
   "cell_type": "code",
   "execution_count": 1,
   "metadata": {},
   "outputs": [
    {
     "name": "stdout",
     "output_type": "stream",
     "text": [
      "usage: pipeline.py [-h] [-d D] [-p P] [-fa FA] [-A] [-MC] [-P]\n",
      "                   [-cc CC [CC ...]] [-cluster_lines CLUSTER_LINES] [-f F]\n",
      "                   [-RMC] [-cluster_jobs CLUSTER_JOBS] [-E] [-CE] [-t T]\n",
      "                   [-KF KF] [-KM] [-K K [K ...]] [-HC] [-CT] [-FHC] [-U]\n",
      "\n",
      "Pipeline for analyzing protein families using unsupervised clustering. Uses\n",
      "either homology or vector embeddings to cluster sequences.\n",
      "\n",
      "options:\n",
      "  -h, --help            show this help message and exit\n",
      "\n",
      "General arguments:\n",
      "  -d D, -directory D    Output directory for files (default: out/)\n",
      "  -p P, -prefix P       Prefix for output files (default: ssn)\n",
      "  -fa FA, -fasta FA     Fasta file to analyze. Only needs to be given once.\n",
      "                        (default: None)\n",
      "\n",
      "Homology based method:\n",
      "  -A, -all_by_all       Run mmseqs all-by-all search (default: False)\n",
      "  -MC, -mmseqs_cluster  Cluster mmseqs results (default: False)\n",
      "  -P, -cluster_percentiles\n",
      "                        Use percentiles of mmseqs results to do clustering.\n",
      "                        (default: False)\n",
      "  -cc CC [CC ...], -cluster_cutoffs CC [CC ...]\n",
      "                        Manually set cutoffs for clustering. Is ignored if -P\n",
      "                        is set. (default: None)\n",
      "  -cluster_lines CLUSTER_LINES\n",
      "                        Number of lines to read at once, adjust for memory\n",
      "                        consumption. (default: 10000000)\n",
      "  -f F, -filter F       List of IDs to filter for. Can be used for mmseqs\n",
      "                        clustering, kmeans, and UMAP. (default: None)\n",
      "  -RMC, -redo_mmseqs_clustering\n",
      "                        Redo steps for mmseqs clustering. (default: False)\n",
      "  -cluster_jobs CLUSTER_JOBS\n",
      "                        Number of jobs to use for clustering (default: None)\n",
      "\n",
      "Vector embedding:\n",
      "  -E, -embed_vectors    Embed vectors (default: False)\n",
      "  -CE, -continue_embed  Continue embedding vectors, in case of interrupted\n",
      "                        run. (default: False)\n",
      "  -t T, -tok_per_batch T\n",
      "                        Number of tokens per batch for embedding. Reduce if\n",
      "                        running out of memory. (default: 30000)\n",
      "\n",
      "Vector based methods:\n",
      "  -KF KF, -keep_features KF\n",
      "                        Number of features to use in vector based methods.\n",
      "                        (default: 30)\n",
      "  -KM, -kmeans          Run kmeans clustering (default: False)\n",
      "  -K K [K ...], -kmeans_clusters K [K ...]\n",
      "                        Number of kmeans clusters. Also used for setting\n",
      "                        cluster count when flattening hierachical clusters.\n",
      "                        (default: [])\n",
      "  -HC, -hierarchical_clustering\n",
      "                        Run hierarchical clustering (default: False)\n",
      "  -CT, -convert_hierarchical_tree\n",
      "                        Convert hierarchical tree to newick format (default:\n",
      "                        False)\n",
      "  -FHC, -flatten_hierarchical_clustering\n",
      "                        Flatten hierarchical clustering (default: False)\n",
      "  -U, -umap             Run UMAP (default: False)\n"
     ]
    }
   ],
   "source": [
    "%%bash\n",
    "python -m proteinclustertools.pipeline -h"
   ]
  },
  {
   "cell_type": "markdown",
   "metadata": {},
   "source": [
    "## Setting up the pipeline"
   ]
  },
  {
   "cell_type": "markdown",
   "metadata": {},
   "source": [
    "The pipeline always starts with cleaning an input fasta file. This can be run as a separate first step, or it will be handled automatically when running any analysis options while providing the '-fa' argument.\n",
    "\n",
    "**Note:** A large part of the pipeline is just keeping track of consecutive input/outputs between steps, and so the fasta file cannot be changed once inputed as it assumes subsequent steps make use of this file.  \n",
    "There are two options to work changes in the data:  \n",
    "1. If the desired data is a subset of the original, the '-f' or '-filter' option can be used for the clustering methods to isolate just the subset of interest.\n",
    "2. (Easiest in most cases) Just start the analysis in a new folder, for most datasets (~50-100k sequences) the run time to redo is not that long.\n",
    "\n",
    "**Note:** All commands require the '-d' ('-directory', where to put output) and '-p' ('-prefix', how to label files) arguments. The folder containing the analysis can be moved and renamed, as the file tracking is completely internal to that directory. However, this also means all analyses have to reuse that same directory."
   ]
  },
  {
   "cell_type": "markdown",
   "metadata": {},
   "source": [
    "Running the following will produce a cleaned fasta file, and the conversion header map for future reference.\n",
    "\n",
    "Note that in this case we use the 100% representatives of the IPR001761 family of proteins. Clustering can be easily generated using CD-hit or mmseqs."
   ]
  },
  {
   "cell_type": "code",
   "execution_count": 2,
   "metadata": {},
   "outputs": [
    {
     "name": "stdout",
     "output_type": "stream",
     "text": [
      "cleaned fasta is in: ../output/IPR001761_cleaned.fasta\n"
     ]
    }
   ],
   "source": [
    "%%bash\n",
    "python -m proteinclustertools.pipeline -d ../output -p IPR001761 -fa ../data/IPR001761_rep100.fasta "
   ]
  },
  {
   "cell_type": "markdown",
   "metadata": {},
   "source": [
    "Subsequent commands no longer need the '-fa' option."
   ]
  },
  {
   "cell_type": "markdown",
   "metadata": {},
   "source": [
    "## Workflows"
   ]
  },
  {
   "cell_type": "markdown",
   "metadata": {},
   "source": [
    "There are 3 main work flows grouped into 2 methods:\n",
    "\n",
    "Homology method - Build a sequence similarity network using MMSeqs pairwise sequence alignments, and cluster the network by detecting connected components above a given cut-off.\n",
    "\n",
    "Representation method - Convert sequences into vectors using the ESM1b protein language model, then conduct either 1) Kmeans clustering or 2) hierarchical clustering (RAM intensive, exponentially scales with sequence count)"
   ]
  },
  {
   "cell_type": "markdown",
   "metadata": {},
   "source": [
    "### Homology method"
   ]
  },
  {
   "cell_type": "markdown",
   "metadata": {},
   "source": [
    "All-by-all pairwise alignments can be run easily using the '-A' option.  "
   ]
  },
  {
   "cell_type": "code",
   "execution_count": 3,
   "metadata": {},
   "outputs": [
    {
     "name": "stdout",
     "output_type": "stream",
     "text": [
      "cleaned fasta is in: ../output/IPR001761_cleaned.fasta\n",
      "Create directory tmp\n",
      "easy-search ../output/IPR001761_cleaned.fasta ../output/IPR001761_cleaned.fasta ../outputIPR001761_mmseqs_search.tsv tmp --max-seqs 1000 --format-mode 4 --format-output query,target,bits \n",
      "\n",
      "MMseqs Version:                        \t15.6f452\n",
      "Substitution matrix                    \taa:blosum62.out,nucl:nucleotide.out\n",
      "Add backtrace                          \tfalse\n",
      "Alignment mode                         \t3\n",
      "Alignment mode                         \t0\n",
      "Allow wrapped scoring                  \tfalse\n",
      "E-value threshold                      \t0.001\n",
      "Seq. id. threshold                     \t0\n",
      "Min alignment length                   \t0\n",
      "Seq. id. mode                          \t0\n",
      "Alternative alignments                 \t0\n",
      "Coverage threshold                     \t0\n",
      "Coverage mode                          \t0\n",
      "Max sequence length                    \t65535\n",
      "Compositional bias                     \t1\n",
      "Compositional bias                     \t1\n",
      "Max reject                             \t2147483647\n",
      "Max accept                             \t2147483647\n",
      "Include identical seq. id.             \tfalse\n",
      "Preload mode                           \t0\n",
      "Pseudo count a                         \tsubstitution:1.100,context:1.400\n",
      "Pseudo count b                         \tsubstitution:4.100,context:5.800\n",
      "Score bias                             \t0\n",
      "Realign hits                           \tfalse\n",
      "Realign score bias                     \t-0.2\n",
      "Realign max seqs                       \t2147483647\n",
      "Correlation score weight               \t0\n",
      "Gap open cost                          \taa:11,nucl:5\n",
      "Gap extension cost                     \taa:1,nucl:2\n",
      "Zdrop                                  \t40\n",
      "Threads                                \t32\n",
      "Compressed                             \t0\n",
      "Verbosity                              \t3\n",
      "Seed substitution matrix               \taa:VTML80.out,nucl:nucleotide.out\n",
      "Sensitivity                            \t5.7\n",
      "k-mer length                           \t0\n",
      "Target search mode                     \t0\n",
      "k-score                                \tseq:2147483647,prof:2147483647\n",
      "Alphabet size                          \taa:21,nucl:5\n",
      "Max results per query                  \t1000\n",
      "Split database                         \t0\n",
      "Split mode                             \t2\n",
      "Split memory limit                     \t0\n",
      "Diagonal scoring                       \ttrue\n",
      "Exact k-mer matching                   \t0\n",
      "Mask residues                          \t1\n",
      "Mask residues probability              \t0.9\n",
      "Mask lower case residues               \t0\n",
      "Minimum diagonal score                 \t15\n",
      "Selected taxa                          \t\n",
      "Spaced k-mers                          \t1\n",
      "Spaced k-mer pattern                   \t\n",
      "Local temporary path                   \t\n",
      "Rescore mode                           \t0\n",
      "Remove hits by seq. id. and coverage   \tfalse\n",
      "Sort results                           \t0\n",
      "Mask profile                           \t1\n",
      "Profile E-value threshold              \t0.001\n",
      "Global sequence weighting              \tfalse\n",
      "Allow deletions                        \tfalse\n",
      "Filter MSA                             \t1\n",
      "Use filter only at N seqs              \t0\n",
      "Maximum seq. id. threshold             \t0.9\n",
      "Minimum seq. id.                       \t0.0\n",
      "Minimum score per column               \t-20\n",
      "Minimum coverage                       \t0\n",
      "Select N most diverse seqs             \t1000\n",
      "Pseudo count mode                      \t0\n",
      "Min codons in orf                      \t30\n",
      "Max codons in length                   \t32734\n",
      "Max orf gaps                           \t2147483647\n",
      "Contig start mode                      \t2\n",
      "Contig end mode                        \t2\n",
      "Orf start mode                         \t1\n",
      "Forward frames                         \t1,2,3\n",
      "Reverse frames                         \t1,2,3\n",
      "Translation table                      \t1\n",
      "Translate orf                          \t0\n",
      "Use all table starts                   \tfalse\n",
      "Offset of numeric ids                  \t0\n",
      "Create lookup                          \t0\n",
      "Add orf stop                           \tfalse\n",
      "Overlap between sequences              \t0\n",
      "Sequence split mode                    \t1\n",
      "Header split mode                      \t0\n",
      "Chain overlapping alignments           \t0\n",
      "Merge query                            \t1\n",
      "Search type                            \t0\n",
      "Search iterations                      \t1\n",
      "Start sensitivity                      \t4\n",
      "Search steps                           \t1\n",
      "Prefilter mode                         \t0\n",
      "Exhaustive search mode                 \tfalse\n",
      "Filter results during exhaustive search\t0\n",
      "Strand selection                       \t1\n",
      "LCA search mode                        \tfalse\n",
      "Disk space limit                       \t0\n",
      "MPI runner                             \t\n",
      "Force restart with latest tmp          \tfalse\n",
      "Remove temporary files                 \ttrue\n",
      "Alignment format                       \t4\n",
      "Format alignment output                \tquery,target,bits\n",
      "Database output                        \tfalse\n",
      "Overlap threshold                      \t0\n",
      "Database type                          \t0\n",
      "Shuffle input database                 \ttrue\n",
      "Createdb mode                          \t0\n",
      "Write lookup file                      \t0\n",
      "Greedy best hits                       \tfalse\n",
      "\n",
      "createdb ../output/IPR001761_cleaned.fasta tmp/3949203995857064003/query --dbtype 0 --shuffle 1 --createdb-mode 0 --write-lookup 0 --id-offset 0 --compressed 0 -v 3 \n",
      "\n",
      "Converting sequences\n",
      "[===\n",
      "Time for merging to query_h: 0h 0m 0s 4ms\n",
      "Time for merging to query: 0h 0m 0s 6ms\n",
      "Database type: Aminoacid\n",
      "Time for processing: 0h 0m 0s 38ms\n",
      "createdb ../output/IPR001761_cleaned.fasta tmp/3949203995857064003/target --dbtype 0 --shuffle 1 --createdb-mode 0 --write-lookup 0 --id-offset 0 --compressed 0 -v 3 \n",
      "\n",
      "Converting sequences\n",
      "[===\n",
      "Time for merging to target_h: 0h 0m 0s 7ms\n",
      "Time for merging to target: 0h 0m 0s 6ms\n",
      "Database type: Aminoacid\n",
      "Time for processing: 0h 0m 0s 37ms\n",
      "Create directory tmp/3949203995857064003/search_tmp\n",
      "search tmp/3949203995857064003/query tmp/3949203995857064003/target tmp/3949203995857064003/result tmp/3949203995857064003/search_tmp --alignment-mode 3 -s 5.7 --max-seqs 1000 --remove-tmp-files 1 \n",
      "\n",
      "prefilter tmp/3949203995857064003/query tmp/3949203995857064003/target tmp/3949203995857064003/search_tmp/14297528547970675541/pref_0 --sub-mat 'aa:blosum62.out,nucl:nucleotide.out' --seed-sub-mat 'aa:VTML80.out,nucl:nucleotide.out' -k 0 --target-search-mode 0 --k-score seq:2147483647,prof:2147483647 --alph-size aa:21,nucl:5 --max-seq-len 65535 --max-seqs 1000 --split 0 --split-mode 2 --split-memory-limit 0 -c 0 --cov-mode 0 --comp-bias-corr 1 --comp-bias-corr-scale 1 --diag-score 1 --exact-kmer-matching 0 --mask 1 --mask-prob 0.9 --mask-lower-case 0 --min-ungapped-score 15 --add-self-matches 0 --spaced-kmer-mode 1 --db-load-mode 0 --pca substitution:1.100,context:1.400 --pcb substitution:4.100,context:5.800 --threads 32 --compressed 0 -v 3 -s 5.7 \n",
      "\n",
      "Query database size: 31535 type: Aminoacid\n",
      "Estimated memory consumption: 1G\n",
      "Target database size: 31535 type: Aminoacid\n",
      "Index table k-mer threshold: 112 at k-mer size 6 \n",
      "Index table: counting k-mers\n",
      "[=================================================================] 31.53K 0s 51ms\n",
      "Index table: Masked residues: 7094\n",
      "Index table: fill\n",
      "[=================================================================] 31.53K 0s 49ms\n",
      "Index statistics\n",
      "Entries:          9949362\n",
      "DB size:          545 MB\n",
      "Avg k-mer size:   0.155459\n",
      "Top 10 k-mers\n",
      "    TIDAAG\t4075\n",
      "    AGSASR\t3218\n",
      "    AGSTSY\t1704\n",
      "    LGRNAR\t1603\n",
      "    ARAVTT\t1518\n",
      "    AKAVAT\t1408\n",
      "    AKAVST\t1332\n",
      "    GVVTRV\t1230\n",
      "    PEPFEW\t1135\n",
      "    SITSLN\t1003\n",
      "Time for index table init: 0h 0m 0s 345ms\n",
      "Process prefiltering step 1 of 1\n",
      "\n",
      "k-mer similarity threshold: 112\n",
      "Starting prefiltering scores calculation (step 1 of 1)\n",
      "Query db start 1 to 31535\n",
      "Target db start 1 to 31535\n",
      "[=================================================================] 31.53K 6s 861ms\n",
      "\n",
      "257.723643 k-mers per position\n",
      "119951 DB matches per sequence\n",
      "0 overflows\n",
      "996 sequences passed prefiltering per query sequence\n",
      "1000 median result list length\n",
      "0 sequences with 0 size result lists\n",
      "Time for merging to pref_0: 0h 0m 0s 6ms\n",
      "Time for processing: 0h 0m 7s 487ms\n",
      "align tmp/3949203995857064003/query tmp/3949203995857064003/target tmp/3949203995857064003/search_tmp/14297528547970675541/pref_0 tmp/3949203995857064003/result --sub-mat 'aa:blosum62.out,nucl:nucleotide.out' -a 0 --alignment-mode 3 --alignment-output-mode 0 --wrapped-scoring 0 -e 0.001 --min-seq-id 0 --min-aln-len 0 --seq-id-mode 0 --alt-ali 0 -c 0 --cov-mode 0 --max-seq-len 65535 --comp-bias-corr 1 --comp-bias-corr-scale 1 --max-rejected 2147483647 --max-accept 2147483647 --add-self-matches 0 --db-load-mode 0 --pca substitution:1.100,context:1.400 --pcb substitution:4.100,context:5.800 --score-bias 0 --realign 0 --realign-score-bias -0.2 --realign-max-seqs 2147483647 --corr-score-weight 0 --gap-open aa:11,nucl:5 --gap-extend aa:1,nucl:2 --zdrop 40 --threads 32 --compressed 0 -v 3 \n",
      "\n",
      "Compute score, coverage and sequence identity\n",
      "Query database size: 31535 type: Aminoacid\n",
      "Target database size: 31535 type: Aminoacid\n",
      "Calculation of alignments\n",
      "[=================================================================] 31.53K 2m 41s 63ms\n",
      "Time for merging to result: 0h 0m 0s 11ms\n",
      "31424522 alignments calculated\n",
      "31130655 sequence pairs passed the thresholds (0.990649 of overall calculated)\n",
      "987.177917 hits per query sequence\n",
      "Time for processing: 0h 2m 41s 354ms\n",
      "rmdb tmp/3949203995857064003/search_tmp/14297528547970675541/pref_0 -v 3 \n",
      "\n",
      "Time for processing: 0h 0m 0s 16ms\n",
      "rmdb tmp/3949203995857064003/search_tmp/14297528547970675541/aln_0 -v 3 \n",
      "\n",
      "Time for processing: 0h 0m 0s 0ms\n",
      "rmdb tmp/3949203995857064003/search_tmp/14297528547970675541/input_0 -v 3 \n",
      "\n",
      "Time for processing: 0h 0m 0s 0ms\n",
      "rmdb tmp/3949203995857064003/search_tmp/14297528547970675541/aln_merge -v 3 \n",
      "\n",
      "Time for processing: 0h 0m 0s 0ms\n",
      "convertalis tmp/3949203995857064003/query tmp/3949203995857064003/target tmp/3949203995857064003/result ../outputIPR001761_mmseqs_search.tsv --sub-mat 'aa:blosum62.out,nucl:nucleotide.out' --format-mode 4 --format-output query,target,bits --translation-table 1 --gap-open aa:11,nucl:5 --gap-extend aa:1,nucl:2 --db-output 0 --db-load-mode 0 --search-type 0 --threads 32 --compressed 0 -v 3 \n",
      "\n",
      "[=================================================================] 31.53K 0s 648ms\n",
      "Time for merging to outputIPR001761_mmseqs_search.tsv: 0h 0m 0s 196ms\n",
      "Time for processing: 0h 0m 1s 108ms\n",
      "rmdb tmp/3949203995857064003/result -v 3 \n",
      "\n",
      "Time for processing: 0h 0m 0s 67ms\n",
      "rmdb tmp/3949203995857064003/target -v 3 \n",
      "\n",
      "Time for processing: 0h 0m 0s 1ms\n",
      "rmdb tmp/3949203995857064003/target_h -v 3 \n",
      "\n",
      "Time for processing: 0h 0m 0s 0ms\n",
      "rmdb tmp/3949203995857064003/query -v 3 \n",
      "\n",
      "Time for processing: 0h 0m 0s 0ms\n",
      "rmdb tmp/3949203995857064003/query_h -v 3 \n",
      "\n",
      "Time for processing: 0h 0m 0s 0ms\n",
      "Updates to state: {'mmseqs_result': 'IPR001761_mmseqs_search.tsv', 'mmseqs_command': 'mmseqs easy-search ../output/IPR001761_cleaned.fasta ../output/IPR001761_cleaned.fasta ../outputIPR001761_mmseqs_search.tsv tmp --max-seqs 1000 --format-mode 4 --format-output query,target,bits'}\n"
     ]
    }
   ],
   "source": [
    "%%bash\n",
    "python -m proteinclustertools.pipeline -d ../output -p IPR001761 -A"
   ]
  },
  {
   "cell_type": "markdown",
   "metadata": {},
   "source": [
    "This creates a 'mmseqs_search.tsv' file with all the pairwise alignment bitscores.  \n",
    "  \n",
    "To identify clusters, use the '-MC' option. It is necessary to identify the cut-offs where clusters should be detected. After the all-by-all alignments, the pipeline automatically sets bitscore cutoffs at the 10,25,50,75, and 90 percentiles of the full distribution (sampled up to 1M pairwise bitscores).\n",
    "\n",
    "So one can use the percentiles:"
   ]
  },
  {
   "cell_type": "code",
   "execution_count": null,
   "metadata": {},
   "outputs": [],
   "source": [
    "%%bash\n",
    "python -m proteinclustertools.pipeline -d ../output -p IPR001761 -MC -P"
   ]
  },
  {
   "cell_type": "markdown",
   "metadata": {},
   "source": [
    "Or specify a list of cut-offs:"
   ]
  },
  {
   "cell_type": "code",
   "execution_count": null,
   "metadata": {},
   "outputs": [],
   "source": [
    "%%bash\n",
    "python -m proteinclustertools.pipeline -d ../output -p IPR001761 -MC -cc 100 150 200 250 300"
   ]
  },
  {
   "cell_type": "markdown",
   "metadata": {},
   "source": [
    "The clustering tries to use multiprocessing, and may consume too much RAM on very large MMSeqs results files. If this is the case, the user can try reducing the number of lines being read by each job, or limit the maximum number of jobs."
   ]
  },
  {
   "cell_type": "code",
   "execution_count": null,
   "metadata": {},
   "outputs": [],
   "source": [
    "%%bash\n",
    "python -m proteinclustertools.pipeline -d ../output -p IPR001761 -MC -P -cluster_lines 1000000 -cluster_jobs 100"
   ]
  },
  {
   "cell_type": "markdown",
   "metadata": {},
   "source": [
    "This will generate clustering files under a 'mmseqs_clustering' folder in the target directory. Which can now be used for downstream steps.  \n",
    "  \n",
    "See the [hierarchical cluster plot](./hierarchical_cluster_plot.ipynb) notebook for an example of how to visualize the clusters using the tools in the package.  \n",
    "See the [representative selection](./representative_selection.ipynb) notebook for an example of how to select representatives given clustering definitions.\n",
    "  \n",
    "Both examples are applicable regardless of how the clustering was generated (any of the methods)."
   ]
  },
  {
   "cell_type": "markdown",
   "metadata": {},
   "source": [
    "### Representation method\n",
    "  \n",
    "Both representation methods require the vector embeddings to be generated first ('-E' option).\n",
    "\n",
    "**Note:** This was intended to be run on a computer with a dedicated GPU, and requires pytorch and cuda to have been properly installed.  \n",
    "Without a GPU, this code could still work in theory as it may try to run it on CPU instead. In this case, it will likely run much slower."
   ]
  },
  {
   "cell_type": "code",
   "execution_count": null,
   "metadata": {},
   "outputs": [],
   "source": [
    "%%bash\n",
    "python -m proteinclustertools.pipeline -d ../output -p IPR001761 -E"
   ]
  },
  {
   "cell_type": "markdown",
   "metadata": {},
   "source": [
    "#### Kmeans clustering\n",
    "  \n",
    "To produces clusters with Kmeans, simply use the '-KM' option. Note that the clustering parameter for Kmeans is the number of final clusters, the user may need to experiment to identify the best results.  \n",
    "Supply the list of cluster counts with '-K'. In this case, we use the same cluster counts as those produced when clustering the homology method using the percentiles option.  "
   ]
  },
  {
   "cell_type": "code",
   "execution_count": null,
   "metadata": {},
   "outputs": [],
   "source": [
    "%%bash\n",
    "python -m proteinclustertools.pipeline -d ../output -p IPR001761 -KM -K 166 505 1403 3939 9094 -KF 30"
   ]
  },
  {
   "cell_type": "markdown",
   "metadata": {},
   "source": [
    "Note the '-KF' option. When using vectors, it is possible to reduce the vector complexity using PCA first. By default, all vector analyses reduce the vectors to 30 dimensions. Set the -KF to 0 to use the full vectors.\n",
    "\n",
    "The clustering definitions are outputed to 'kmeans' folder in the target directory.\n",
    "\n",
    "**Note:** With Kmeans, there is stochasticity to the clustering. The pipeline uses a fixed random number seed to get the same results. "
   ]
  },
  {
   "cell_type": "markdown",
   "metadata": {},
   "source": [
    "### Hierarchical clustering\n",
    "  \n",
    "With hierarchical clustering, we first generate a linkage matrix, that can then be used to generate clusterings at different levels, or to build a tree structure for visualization. Start with the '-HC' method to create the linkage matrix. Again, '-KF' can be used to control feature complexity. \n",
    "\n",
    "This pipeline generates linkage matrices using 'cosine' as the metric, and 'weighted' method of clustering.     "
   ]
  },
  {
   "cell_type": "code",
   "execution_count": null,
   "metadata": {},
   "outputs": [],
   "source": [
    "%%bash\n",
    "python -m proteinclustertools.pipeline -d ../output -p IPR001761 -HC -KF 30"
   ]
  },
  {
   "cell_type": "markdown",
   "metadata": {},
   "source": [
    "To produce specific clusters, use the '-FHC' option to 'flatten' the clusters. The pipeline uses the simple method of 'max clust' where similar to Kmeans, the user specifies the desired number of final clusters."
   ]
  },
  {
   "cell_type": "code",
   "execution_count": null,
   "metadata": {},
   "outputs": [],
   "source": [
    "%%bash\n",
    "python -m proteinclustertools.pipeline -d ../output -p IPR001761 -FHC -K 166 505 1403 3939 9094"
   ]
  },
  {
   "cell_type": "markdown",
   "metadata": {},
   "source": [
    "The resulting cluster definitions are in 'hierarchical_clustering' folder in the target directory."
   ]
  },
  {
   "cell_type": "markdown",
   "metadata": {},
   "source": [
    "Parallel to the cluster generation, we can also make a tree structure from the linkage matrix. The function produces the full tree with all sequences, which can be further manipulated (example in the [tree structure](./tree_structure.ipynb) notebook).  \n",
    "Simply use the '-CT' option."
   ]
  },
  {
   "cell_type": "code",
   "execution_count": null,
   "metadata": {},
   "outputs": [],
   "source": [
    "%%bash\n",
    "python -m proteinclustertools.pipeline -d ../output -p IPR001761 -CT"
   ]
  },
  {
   "cell_type": "markdown",
   "metadata": {},
   "source": [
    "The tree is created directly in the target directory. Look for the Newick (.nwk) file."
   ]
  },
  {
   "cell_type": "markdown",
   "metadata": {},
   "source": [
    "#### Conducting UMAP\n",
    "  \n",
    "The vectors can be processed by UMAP to map each sequence directly to a 2D coordinate for visualization. It has the strength of being naturally self-organising and preserving some structure from the higher dimensions, but has various pitfalls for interpretation. \n",
    "  \n",
    "**Note:** Visualizations using UMAP can be sensitive to hyperparameters. However, for simplicity, the pipeline uses default options.  \n",
    "The user is encouraged to test UMAP (or another dimensionality reduction technique like TSNE) to see if different settings change their interpretations.  \n",
    "In this case, they'll need to write their own code (usually just 1-2 lines) and can manually provide the embeddings from this pipeline.    \n",
    "\n",
    "The pipeline provides the '-U' option to make conduct UMAP on all sequences that have been converted into vectors. Again, '-KF' can be used to control vector complexity.    "
   ]
  },
  {
   "cell_type": "code",
   "execution_count": 3,
   "metadata": {},
   "outputs": [
    {
     "name": "stdout",
     "output_type": "stream",
     "text": [
      "cleaned fasta is in: ../output/IPR001761_cleaned.fasta\n",
      "Loading embeddings for UMAP\n",
      "Reducing feature dimensions with PCA\n",
      "Performing UMAP\n"
     ]
    }
   ],
   "source": [
    "%%bash\n",
    "python -m proteinclustertools.pipeline -d ../output -p IPR001761 -U -KF 30"
   ]
  },
  {
   "cell_type": "markdown",
   "metadata": {},
   "source": [
    "The resulting 'umap.csv' is created in the target directory, and is a dataframe with an x and y coordinate for each sequence ID (in numerical format). This can be conveniently plotted using any scatter plot function or graphing software. See the [UMAP plot](./UMAP_plot.ipynb) notebook for an example of interactive visualization."
   ]
  }
 ],
 "metadata": {
  "kernelspec": {
   "display_name": "clustertools2",
   "language": "python",
   "name": "python3"
  },
  "language_info": {
   "codemirror_mode": {
    "name": "ipython",
    "version": 3
   },
   "file_extension": ".py",
   "mimetype": "text/x-python",
   "name": "python",
   "nbconvert_exporter": "python",
   "pygments_lexer": "ipython3",
   "version": "3.12.2"
  }
 },
 "nbformat": 4,
 "nbformat_minor": 2
}
